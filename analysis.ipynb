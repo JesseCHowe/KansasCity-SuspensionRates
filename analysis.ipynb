{
 "cells": [
  {
   "cell_type": "markdown",
   "metadata": {},
   "source": [
    "# Take Note Suspension Analysis"
   ]
  },
  {
   "cell_type": "markdown",
   "metadata": {},
   "source": [
    "By Jesse Howe"
   ]
  },
  {
   "cell_type": "markdown",
   "metadata": {},
   "source": [
    "This notebook documents an alysis conducted for KCPT's Take Note Suspenson Rate story: Visualizing Kansas City Suspension Rates"
   ]
  },
  {
   "cell_type": "markdown",
   "metadata": {},
   "source": [
    "The Civil Rights Data Collection (CRDC) 2015 analysis of Elementary Suspension Gaps put Missouri in the spotlight, revealing that the state had the highest suspension rate of black elementary students in the nation at 14 percent and an elementary suspension gap of 12.5 black students suspended for every white student.\n",
    "\n",
    "This is a follow-up analysis to see if the KC metro has made significant changes in who and how i suspends students."
   ]
  },
  {
   "cell_type": "markdown",
   "metadata": {},
   "source": [
    "### Import Python tools"
   ]
  },
  {
   "cell_type": "code",
   "execution_count": 275,
   "metadata": {},
   "outputs": [],
   "source": [
    "import pandas as pd\n",
    "import datetime\n",
    "import numpy as np\n",
    "%matplotlib inline"
   ]
  },
  {
   "cell_type": "markdown",
   "metadata": {},
   "source": [
    "### Download source data"
   ]
  },
  {
   "cell_type": "markdown",
   "metadata": {},
   "source": [
    "Data was precompiled from excel sheets from two sources:"
   ]
  },
  {
   "cell_type": "markdown",
   "metadata": {},
   "source": [
    "Missouri: https://mcds.dese.mo.gov/quickfacts/sitepages/districtinfo.aspx"
   ]
  },
  {
   "cell_type": "markdown",
   "metadata": {},
   "source": [
    "Kansas: http://datacentral.ksde.org/report_gen.aspx"
   ]
  },
  {
   "cell_type": "code",
   "execution_count": 276,
   "metadata": {},
   "outputs": [],
   "source": [
    "susRates = pd.read_csv(\"data/Suspension-Rates-08-15.csv\")"
   ]
  },
  {
   "cell_type": "code",
   "execution_count": 277,
   "metadata": {},
   "outputs": [],
   "source": [
    "susRates['District'] = susRates['District'].apply(str)"
   ]
  },
  {
   "cell_type": "code",
   "execution_count": 279,
   "metadata": {},
   "outputs": [],
   "source": [
    "susRates['preAvg'] = susRates[['y2008', 'y2009', 'y2010', 'y2011']].mean(axis=1)"
   ]
  },
  {
   "cell_type": "code",
   "execution_count": 280,
   "metadata": {},
   "outputs": [],
   "source": [
    "susRates['postAvg'] = susRates[['y2012', 'y2013', 'y2014', 'y2015']].mean(axis=1)"
   ]
  },
  {
   "cell_type": "code",
   "execution_count": 281,
   "metadata": {},
   "outputs": [],
   "source": [
    "susRates['rateDif'] = susRates['postAvg']-susRates['preAvg'] "
   ]
  },
  {
   "cell_type": "markdown",
   "metadata": {},
   "source": [
    "Finding: Districts that have increased since 2008 have been by less than a percent. Though, three out of those five districts were noted in the CRDC report in 2015"
   ]
  },
  {
   "cell_type": "code",
   "execution_count": 283,
   "metadata": {},
   "outputs": [
    {
     "data": {
      "text/html": [
       "<div>\n",
       "<style>\n",
       "    .dataframe thead tr:only-child th {\n",
       "        text-align: right;\n",
       "    }\n",
       "\n",
       "    .dataframe thead th {\n",
       "        text-align: left;\n",
       "    }\n",
       "\n",
       "    .dataframe tbody tr th {\n",
       "        vertical-align: top;\n",
       "    }\n",
       "</style>\n",
       "<table border=\"1\" class=\"dataframe\">\n",
       "  <thead>\n",
       "    <tr style=\"text-align: right;\">\n",
       "      <th></th>\n",
       "      <th>District</th>\n",
       "      <th>y2008</th>\n",
       "      <th>y2009</th>\n",
       "      <th>y2010</th>\n",
       "      <th>y2011</th>\n",
       "      <th>y2012</th>\n",
       "      <th>y2013</th>\n",
       "      <th>y2014</th>\n",
       "      <th>y2015</th>\n",
       "      <th>preAvg</th>\n",
       "      <th>postAvg</th>\n",
       "      <th>rateDif</th>\n",
       "    </tr>\n",
       "  </thead>\n",
       "  <tbody>\n",
       "    <tr>\n",
       "      <th>26</th>\n",
       "      <td>Kansas City Unified School District 500</td>\n",
       "      <td>2.4</td>\n",
       "      <td>2.2</td>\n",
       "      <td>2.7</td>\n",
       "      <td>4.88</td>\n",
       "      <td>3.6</td>\n",
       "      <td>3.7</td>\n",
       "      <td>4.2</td>\n",
       "      <td>4.3</td>\n",
       "      <td>3.0450</td>\n",
       "      <td>3.950</td>\n",
       "      <td>0.9050</td>\n",
       "    </tr>\n",
       "    <tr>\n",
       "      <th>7</th>\n",
       "      <td>Hickman Mills</td>\n",
       "      <td>3.3</td>\n",
       "      <td>3.1</td>\n",
       "      <td>4.0</td>\n",
       "      <td>3.80</td>\n",
       "      <td>3.5</td>\n",
       "      <td>2.7</td>\n",
       "      <td>7.0</td>\n",
       "      <td>4.4</td>\n",
       "      <td>3.5500</td>\n",
       "      <td>4.400</td>\n",
       "      <td>0.8500</td>\n",
       "    </tr>\n",
       "    <tr>\n",
       "      <th>9</th>\n",
       "      <td>KCPS</td>\n",
       "      <td>7.3</td>\n",
       "      <td>6.0</td>\n",
       "      <td>4.1</td>\n",
       "      <td>8.30</td>\n",
       "      <td>6.9</td>\n",
       "      <td>7.4</td>\n",
       "      <td>7.3</td>\n",
       "      <td>7.4</td>\n",
       "      <td>6.4250</td>\n",
       "      <td>7.250</td>\n",
       "      <td>0.8250</td>\n",
       "    </tr>\n",
       "    <tr>\n",
       "      <th>29</th>\n",
       "      <td>Turner Unified School District 202</td>\n",
       "      <td>1.2</td>\n",
       "      <td>3.8</td>\n",
       "      <td>4.3</td>\n",
       "      <td>3.41</td>\n",
       "      <td>4.3</td>\n",
       "      <td>3.0</td>\n",
       "      <td>3.7</td>\n",
       "      <td>4.9</td>\n",
       "      <td>3.1775</td>\n",
       "      <td>3.975</td>\n",
       "      <td>0.7975</td>\n",
       "    </tr>\n",
       "    <tr>\n",
       "      <th>4</th>\n",
       "      <td>Fort Osage</td>\n",
       "      <td>0.7</td>\n",
       "      <td>1.2</td>\n",
       "      <td>0.8</td>\n",
       "      <td>1.20</td>\n",
       "      <td>2.0</td>\n",
       "      <td>1.6</td>\n",
       "      <td>1.5</td>\n",
       "      <td>1.7</td>\n",
       "      <td>0.9750</td>\n",
       "      <td>1.700</td>\n",
       "      <td>0.7250</td>\n",
       "    </tr>\n",
       "  </tbody>\n",
       "</table>\n",
       "</div>"
      ],
      "text/plain": [
       "                                   District  y2008  y2009  y2010  y2011  \\\n",
       "26  Kansas City Unified School District 500    2.4    2.2    2.7   4.88   \n",
       "7                             Hickman Mills    3.3    3.1    4.0   3.80   \n",
       "9                                      KCPS    7.3    6.0    4.1   8.30   \n",
       "29       Turner Unified School District 202    1.2    3.8    4.3   3.41   \n",
       "4                                Fort Osage    0.7    1.2    0.8   1.20   \n",
       "\n",
       "    y2012  y2013  y2014  y2015  preAvg  postAvg  rateDif  \n",
       "26    3.6    3.7    4.2    4.3  3.0450    3.950   0.9050  \n",
       "7     3.5    2.7    7.0    4.4  3.5500    4.400   0.8500  \n",
       "9     6.9    7.4    7.3    7.4  6.4250    7.250   0.8250  \n",
       "29    4.3    3.0    3.7    4.9  3.1775    3.975   0.7975  \n",
       "4     2.0    1.6    1.5    1.7  0.9750    1.700   0.7250  "
      ]
     },
     "execution_count": 283,
     "metadata": {},
     "output_type": "execute_result"
    }
   ],
   "source": [
    "susRates.sort_values(\"rateDif\", ascending=False).head(5)"
   ]
  },
  {
   "cell_type": "markdown",
   "metadata": {},
   "source": [
    "Finding: Raytown, Center, and Independence have made more signifcant change of one percent or more"
   ]
  },
  {
   "cell_type": "code",
   "execution_count": 284,
   "metadata": {},
   "outputs": [
    {
     "data": {
      "text/html": [
       "<div>\n",
       "<style>\n",
       "    .dataframe thead tr:only-child th {\n",
       "        text-align: right;\n",
       "    }\n",
       "\n",
       "    .dataframe thead th {\n",
       "        text-align: left;\n",
       "    }\n",
       "\n",
       "    .dataframe tbody tr th {\n",
       "        vertical-align: top;\n",
       "    }\n",
       "</style>\n",
       "<table border=\"1\" class=\"dataframe\">\n",
       "  <thead>\n",
       "    <tr style=\"text-align: right;\">\n",
       "      <th></th>\n",
       "      <th>District</th>\n",
       "      <th>y2008</th>\n",
       "      <th>y2009</th>\n",
       "      <th>y2010</th>\n",
       "      <th>y2011</th>\n",
       "      <th>y2012</th>\n",
       "      <th>y2013</th>\n",
       "      <th>y2014</th>\n",
       "      <th>y2015</th>\n",
       "      <th>preAvg</th>\n",
       "      <th>postAvg</th>\n",
       "      <th>rateDif</th>\n",
       "    </tr>\n",
       "  </thead>\n",
       "  <tbody>\n",
       "    <tr>\n",
       "      <th>19</th>\n",
       "      <td>Raytown</td>\n",
       "      <td>3.0</td>\n",
       "      <td>2.4</td>\n",
       "      <td>2.9</td>\n",
       "      <td>2.6</td>\n",
       "      <td>0.8</td>\n",
       "      <td>0.7</td>\n",
       "      <td>0.7</td>\n",
       "      <td>0.9</td>\n",
       "      <td>2.725</td>\n",
       "      <td>0.775</td>\n",
       "      <td>-1.950</td>\n",
       "    </tr>\n",
       "    <tr>\n",
       "      <th>1</th>\n",
       "      <td>Center</td>\n",
       "      <td>5.9</td>\n",
       "      <td>3.9</td>\n",
       "      <td>5.0</td>\n",
       "      <td>5.0</td>\n",
       "      <td>3.8</td>\n",
       "      <td>3.4</td>\n",
       "      <td>3.0</td>\n",
       "      <td>3.5</td>\n",
       "      <td>4.950</td>\n",
       "      <td>3.425</td>\n",
       "      <td>-1.525</td>\n",
       "    </tr>\n",
       "    <tr>\n",
       "      <th>8</th>\n",
       "      <td>Independence</td>\n",
       "      <td>2.3</td>\n",
       "      <td>2.6</td>\n",
       "      <td>2.4</td>\n",
       "      <td>2.6</td>\n",
       "      <td>1.7</td>\n",
       "      <td>1.1</td>\n",
       "      <td>1.6</td>\n",
       "      <td>0.8</td>\n",
       "      <td>2.475</td>\n",
       "      <td>1.300</td>\n",
       "      <td>-1.175</td>\n",
       "    </tr>\n",
       "    <tr>\n",
       "      <th>6</th>\n",
       "      <td>Grandview</td>\n",
       "      <td>1.3</td>\n",
       "      <td>1.5</td>\n",
       "      <td>1.2</td>\n",
       "      <td>1.1</td>\n",
       "      <td>1.2</td>\n",
       "      <td>0.4</td>\n",
       "      <td>0.3</td>\n",
       "      <td>0.6</td>\n",
       "      <td>1.275</td>\n",
       "      <td>0.625</td>\n",
       "      <td>-0.650</td>\n",
       "    </tr>\n",
       "    <tr>\n",
       "      <th>2</th>\n",
       "      <td>Clinton</td>\n",
       "      <td>2.1</td>\n",
       "      <td>0.0</td>\n",
       "      <td>0.4</td>\n",
       "      <td>0.1</td>\n",
       "      <td>0.0</td>\n",
       "      <td>0.1</td>\n",
       "      <td>0.4</td>\n",
       "      <td>0.0</td>\n",
       "      <td>0.650</td>\n",
       "      <td>0.125</td>\n",
       "      <td>-0.525</td>\n",
       "    </tr>\n",
       "  </tbody>\n",
       "</table>\n",
       "</div>"
      ],
      "text/plain": [
       "        District  y2008  y2009  y2010  y2011  y2012  y2013  y2014  y2015  \\\n",
       "19       Raytown    3.0    2.4    2.9    2.6    0.8    0.7    0.7    0.9   \n",
       "1         Center    5.9    3.9    5.0    5.0    3.8    3.4    3.0    3.5   \n",
       "8   Independence    2.3    2.6    2.4    2.6    1.7    1.1    1.6    0.8   \n",
       "6      Grandview    1.3    1.5    1.2    1.1    1.2    0.4    0.3    0.6   \n",
       "2        Clinton    2.1    0.0    0.4    0.1    0.0    0.1    0.4    0.0   \n",
       "\n",
       "    preAvg  postAvg  rateDif  \n",
       "19   2.725    0.775   -1.950  \n",
       "1    4.950    3.425   -1.525  \n",
       "8    2.475    1.300   -1.175  \n",
       "6    1.275    0.625   -0.650  \n",
       "2    0.650    0.125   -0.525  "
      ]
     },
     "execution_count": 284,
     "metadata": {},
     "output_type": "execute_result"
    }
   ],
   "source": [
    "susRates.sort_values(\"rateDif\", ascending=True).head(5)"
   ]
  },
  {
   "cell_type": "code",
   "execution_count": 285,
   "metadata": {},
   "outputs": [],
   "source": [
    "susRates['record'] = susRates[['y2008','y2009','y2010','y2011','y2012','y2013','y2014','y2015']].idxmax(axis=1)"
   ]
  },
  {
   "cell_type": "markdown",
   "metadata": {},
   "source": [
    "For 8 districts 2008 was one of the highest suspeding years, for 7 districts 2015 was the highest suspending year"
   ]
  },
  {
   "cell_type": "code",
   "execution_count": 286,
   "metadata": {},
   "outputs": [
    {
     "data": {
      "text/plain": [
       "y2008    8\n",
       "y2015    7\n",
       "y2009    6\n",
       "y2014    4\n",
       "y2012    3\n",
       "y2011    2\n",
       "y2013    2\n",
       "y2010    1\n",
       "Name: record, dtype: int64"
      ]
     },
     "execution_count": 286,
     "metadata": {},
     "output_type": "execute_result"
    }
   ],
   "source": [
    "susRates['record'].value_counts()"
   ]
  },
  {
   "cell_type": "code",
   "execution_count": 287,
   "metadata": {},
   "outputs": [],
   "source": [
    "max = susRates[['y2008','y2009','y2010','y2011','y2012','y2013','y2014','y2015']].max(axis=1)"
   ]
  },
  {
   "cell_type": "code",
   "execution_count": 288,
   "metadata": {},
   "outputs": [],
   "source": [
    "min = susRates[['y2008','y2009','y2010','y2011','y2012','y2013','y2014','y2015']].min(axis=1)"
   ]
  },
  {
   "cell_type": "code",
   "execution_count": 289,
   "metadata": {},
   "outputs": [],
   "source": [
    "susRates['fluctuation'] = max-min"
   ]
  },
  {
   "cell_type": "markdown",
   "metadata": {},
   "source": [
    "Finding: There have been large fluctuations in many of the districts focused in the CRDC report. Kansas City Public Schools has flucuated by nearly 5 percentage points since 2008. The highest and lowest were back to back: 4.1 percent in 2010 and 8.3 in 2011"
   ]
  },
  {
   "cell_type": "code",
   "execution_count": 290,
   "metadata": {},
   "outputs": [
    {
     "data": {
      "text/html": [
       "<div>\n",
       "<style>\n",
       "    .dataframe thead tr:only-child th {\n",
       "        text-align: right;\n",
       "    }\n",
       "\n",
       "    .dataframe thead th {\n",
       "        text-align: left;\n",
       "    }\n",
       "\n",
       "    .dataframe tbody tr th {\n",
       "        vertical-align: top;\n",
       "    }\n",
       "</style>\n",
       "<table border=\"1\" class=\"dataframe\">\n",
       "  <thead>\n",
       "    <tr style=\"text-align: right;\">\n",
       "      <th></th>\n",
       "      <th>District</th>\n",
       "      <th>y2008</th>\n",
       "      <th>y2009</th>\n",
       "      <th>y2010</th>\n",
       "      <th>y2011</th>\n",
       "      <th>y2012</th>\n",
       "      <th>y2013</th>\n",
       "      <th>y2014</th>\n",
       "      <th>y2015</th>\n",
       "      <th>preAvg</th>\n",
       "      <th>postAvg</th>\n",
       "      <th>rateDif</th>\n",
       "      <th>record</th>\n",
       "      <th>fluctuation</th>\n",
       "    </tr>\n",
       "  </thead>\n",
       "  <tbody>\n",
       "    <tr>\n",
       "      <th>24</th>\n",
       "      <td>Bonner Springs Unified School District 204</td>\n",
       "      <td>3.3</td>\n",
       "      <td>1.5</td>\n",
       "      <td>1.6</td>\n",
       "      <td>0.78</td>\n",
       "      <td>0.0</td>\n",
       "      <td>1.0</td>\n",
       "      <td>3.8</td>\n",
       "      <td>4.8</td>\n",
       "      <td>1.7950</td>\n",
       "      <td>2.400</td>\n",
       "      <td>0.6050</td>\n",
       "      <td>y2015</td>\n",
       "      <td>4.8</td>\n",
       "    </tr>\n",
       "    <tr>\n",
       "      <th>7</th>\n",
       "      <td>Hickman Mills</td>\n",
       "      <td>3.3</td>\n",
       "      <td>3.1</td>\n",
       "      <td>4.0</td>\n",
       "      <td>3.80</td>\n",
       "      <td>3.5</td>\n",
       "      <td>2.7</td>\n",
       "      <td>7.0</td>\n",
       "      <td>4.4</td>\n",
       "      <td>3.5500</td>\n",
       "      <td>4.400</td>\n",
       "      <td>0.8500</td>\n",
       "      <td>y2014</td>\n",
       "      <td>4.3</td>\n",
       "    </tr>\n",
       "    <tr>\n",
       "      <th>9</th>\n",
       "      <td>KCPS</td>\n",
       "      <td>7.3</td>\n",
       "      <td>6.0</td>\n",
       "      <td>4.1</td>\n",
       "      <td>8.30</td>\n",
       "      <td>6.9</td>\n",
       "      <td>7.4</td>\n",
       "      <td>7.3</td>\n",
       "      <td>7.4</td>\n",
       "      <td>6.4250</td>\n",
       "      <td>7.250</td>\n",
       "      <td>0.8250</td>\n",
       "      <td>y2011</td>\n",
       "      <td>4.2</td>\n",
       "    </tr>\n",
       "    <tr>\n",
       "      <th>29</th>\n",
       "      <td>Turner Unified School District 202</td>\n",
       "      <td>1.2</td>\n",
       "      <td>3.8</td>\n",
       "      <td>4.3</td>\n",
       "      <td>3.41</td>\n",
       "      <td>4.3</td>\n",
       "      <td>3.0</td>\n",
       "      <td>3.7</td>\n",
       "      <td>4.9</td>\n",
       "      <td>3.1775</td>\n",
       "      <td>3.975</td>\n",
       "      <td>0.7975</td>\n",
       "      <td>y2015</td>\n",
       "      <td>3.7</td>\n",
       "    </tr>\n",
       "    <tr>\n",
       "      <th>1</th>\n",
       "      <td>Center</td>\n",
       "      <td>5.9</td>\n",
       "      <td>3.9</td>\n",
       "      <td>5.0</td>\n",
       "      <td>5.00</td>\n",
       "      <td>3.8</td>\n",
       "      <td>3.4</td>\n",
       "      <td>3.0</td>\n",
       "      <td>3.5</td>\n",
       "      <td>4.9500</td>\n",
       "      <td>3.425</td>\n",
       "      <td>-1.5250</td>\n",
       "      <td>y2008</td>\n",
       "      <td>2.9</td>\n",
       "    </tr>\n",
       "  </tbody>\n",
       "</table>\n",
       "</div>"
      ],
      "text/plain": [
       "                                      District  y2008  y2009  y2010  y2011  \\\n",
       "24  Bonner Springs Unified School District 204    3.3    1.5    1.6   0.78   \n",
       "7                                Hickman Mills    3.3    3.1    4.0   3.80   \n",
       "9                                         KCPS    7.3    6.0    4.1   8.30   \n",
       "29          Turner Unified School District 202    1.2    3.8    4.3   3.41   \n",
       "1                                       Center    5.9    3.9    5.0   5.00   \n",
       "\n",
       "    y2012  y2013  y2014  y2015  preAvg  postAvg  rateDif record  fluctuation  \n",
       "24    0.0    1.0    3.8    4.8  1.7950    2.400   0.6050  y2015          4.8  \n",
       "7     3.5    2.7    7.0    4.4  3.5500    4.400   0.8500  y2014          4.3  \n",
       "9     6.9    7.4    7.3    7.4  6.4250    7.250   0.8250  y2011          4.2  \n",
       "29    4.3    3.0    3.7    4.9  3.1775    3.975   0.7975  y2015          3.7  \n",
       "1     3.8    3.4    3.0    3.5  4.9500    3.425  -1.5250  y2008          2.9  "
      ]
     },
     "execution_count": 290,
     "metadata": {},
     "output_type": "execute_result"
    }
   ],
   "source": [
    "susRates.sort_values(\"fluctuation\", ascending=False).head(5)"
   ]
  },
  {
   "cell_type": "markdown",
   "metadata": {},
   "source": [
    "Finding: Many of the districts in the KC metro region that have kept low suspension rates have also kept consistent suspension rates."
   ]
  },
  {
   "cell_type": "code",
   "execution_count": 291,
   "metadata": {},
   "outputs": [
    {
     "data": {
      "text/html": [
       "<div>\n",
       "<style>\n",
       "    .dataframe thead tr:only-child th {\n",
       "        text-align: right;\n",
       "    }\n",
       "\n",
       "    .dataframe thead th {\n",
       "        text-align: left;\n",
       "    }\n",
       "\n",
       "    .dataframe tbody tr th {\n",
       "        vertical-align: top;\n",
       "    }\n",
       "</style>\n",
       "<table border=\"1\" class=\"dataframe\">\n",
       "  <thead>\n",
       "    <tr style=\"text-align: right;\">\n",
       "      <th></th>\n",
       "      <th>District</th>\n",
       "      <th>y2008</th>\n",
       "      <th>y2009</th>\n",
       "      <th>y2010</th>\n",
       "      <th>y2011</th>\n",
       "      <th>y2012</th>\n",
       "      <th>y2013</th>\n",
       "      <th>y2014</th>\n",
       "      <th>y2015</th>\n",
       "      <th>preAvg</th>\n",
       "      <th>postAvg</th>\n",
       "      <th>rateDif</th>\n",
       "      <th>record</th>\n",
       "      <th>fluctuation</th>\n",
       "    </tr>\n",
       "  </thead>\n",
       "  <tbody>\n",
       "    <tr>\n",
       "      <th>23</th>\n",
       "      <td>Blue Valley Unified School District 229</td>\n",
       "      <td>0.4</td>\n",
       "      <td>0.3</td>\n",
       "      <td>0.2</td>\n",
       "      <td>0.05</td>\n",
       "      <td>0.3</td>\n",
       "      <td>0.1</td>\n",
       "      <td>0.4</td>\n",
       "      <td>0.4</td>\n",
       "      <td>0.2375</td>\n",
       "      <td>0.300</td>\n",
       "      <td>0.0625</td>\n",
       "      <td>y2008</td>\n",
       "      <td>0.35</td>\n",
       "    </tr>\n",
       "    <tr>\n",
       "      <th>18</th>\n",
       "      <td>Platte</td>\n",
       "      <td>0.8</td>\n",
       "      <td>0.8</td>\n",
       "      <td>0.6</td>\n",
       "      <td>0.60</td>\n",
       "      <td>0.6</td>\n",
       "      <td>0.7</td>\n",
       "      <td>0.4</td>\n",
       "      <td>0.5</td>\n",
       "      <td>0.7000</td>\n",
       "      <td>0.550</td>\n",
       "      <td>-0.1500</td>\n",
       "      <td>y2008</td>\n",
       "      <td>0.40</td>\n",
       "    </tr>\n",
       "    <tr>\n",
       "      <th>27</th>\n",
       "      <td>Shawnee Mission Public Schools Unified School ...</td>\n",
       "      <td>0.7</td>\n",
       "      <td>0.7</td>\n",
       "      <td>0.6</td>\n",
       "      <td>0.85</td>\n",
       "      <td>0.5</td>\n",
       "      <td>0.6</td>\n",
       "      <td>1.0</td>\n",
       "      <td>1.0</td>\n",
       "      <td>0.7125</td>\n",
       "      <td>0.775</td>\n",
       "      <td>0.0625</td>\n",
       "      <td>y2014</td>\n",
       "      <td>0.50</td>\n",
       "    </tr>\n",
       "    <tr>\n",
       "      <th>15</th>\n",
       "      <td>North Platte</td>\n",
       "      <td>0.0</td>\n",
       "      <td>0.3</td>\n",
       "      <td>0.5</td>\n",
       "      <td>0.20</td>\n",
       "      <td>0.5</td>\n",
       "      <td>0.5</td>\n",
       "      <td>0.5</td>\n",
       "      <td>0.2</td>\n",
       "      <td>0.2500</td>\n",
       "      <td>0.425</td>\n",
       "      <td>0.1750</td>\n",
       "      <td>y2010</td>\n",
       "      <td>0.50</td>\n",
       "    </tr>\n",
       "    <tr>\n",
       "      <th>0</th>\n",
       "      <td>Blue Springs</td>\n",
       "      <td>1.2</td>\n",
       "      <td>1.4</td>\n",
       "      <td>1.1</td>\n",
       "      <td>1.10</td>\n",
       "      <td>1.5</td>\n",
       "      <td>1.5</td>\n",
       "      <td>0.9</td>\n",
       "      <td>1.1</td>\n",
       "      <td>1.2000</td>\n",
       "      <td>1.250</td>\n",
       "      <td>0.0500</td>\n",
       "      <td>y2012</td>\n",
       "      <td>0.60</td>\n",
       "    </tr>\n",
       "  </tbody>\n",
       "</table>\n",
       "</div>"
      ],
      "text/plain": [
       "                                             District  y2008  y2009  y2010  \\\n",
       "23            Blue Valley Unified School District 229    0.4    0.3    0.2   \n",
       "18                                             Platte    0.8    0.8    0.6   \n",
       "27  Shawnee Mission Public Schools Unified School ...    0.7    0.7    0.6   \n",
       "15                                       North Platte    0.0    0.3    0.5   \n",
       "0                                        Blue Springs    1.2    1.4    1.1   \n",
       "\n",
       "    y2011  y2012  y2013  y2014  y2015  preAvg  postAvg  rateDif record  \\\n",
       "23   0.05    0.3    0.1    0.4    0.4  0.2375    0.300   0.0625  y2008   \n",
       "18   0.60    0.6    0.7    0.4    0.5  0.7000    0.550  -0.1500  y2008   \n",
       "27   0.85    0.5    0.6    1.0    1.0  0.7125    0.775   0.0625  y2014   \n",
       "15   0.20    0.5    0.5    0.5    0.2  0.2500    0.425   0.1750  y2010   \n",
       "0    1.10    1.5    1.5    0.9    1.1  1.2000    1.250   0.0500  y2012   \n",
       "\n",
       "    fluctuation  \n",
       "23         0.35  \n",
       "18         0.40  \n",
       "27         0.50  \n",
       "15         0.50  \n",
       "0          0.60  "
      ]
     },
     "execution_count": 291,
     "metadata": {},
     "output_type": "execute_result"
    }
   ],
   "source": [
    "susRates.sort_values(\"fluctuation\", ascending=True).head(5)"
   ]
  },
  {
   "cell_type": "markdown",
   "metadata": {},
   "source": [
    "# Suspension Gap"
   ]
  },
  {
   "cell_type": "markdown",
   "metadata": {},
   "source": [
    "Data was scraped from the Civil Rights Data Base. That method can be seen here:"
   ]
  },
  {
   "cell_type": "markdown",
   "metadata": {},
   "source": [
    "https://github.com/JesseCHowe/KansasCity-SuspensionRates/blob/master/2011%20-%20Kansas%20City%20Out%20of%20School%20Suspensions.ipynb"
   ]
  },
  {
   "cell_type": "markdown",
   "metadata": {},
   "source": [
    "https://github.com/JesseCHowe/KansasCity-SuspensionRates/blob/master/2013%20-%20Kansas%20City%20Out%20of%20School%20Suspensions.ipynb"
   ]
  },
  {
   "cell_type": "code",
   "execution_count": 292,
   "metadata": {},
   "outputs": [],
   "source": [
    "CRDC11 = pd.read_csv(\"CRDC_Suspennsions_2011.csv\")\n",
    "CRDC13 = pd.read_csv(\"CRDC_Suspennsions_2013.csv\")"
   ]
  },
  {
   "cell_type": "code",
   "execution_count": 295,
   "metadata": {},
   "outputs": [],
   "source": [
    "CRDC13['change'] = CRDC13['Suspension_Gap'].round(2) - CRDC11['Suspension_Gap'].round(2)"
   ]
  },
  {
   "cell_type": "markdown",
   "metadata": {},
   "source": [
    "Remove all districts with less than 50 Black Students"
   ]
  },
  {
   "cell_type": "code",
   "execution_count": 297,
   "metadata": {},
   "outputs": [],
   "source": [
    "CRDCedit1 = CRDC13[CRDC13['num_Black'] > 50]  "
   ]
  },
  {
   "cell_type": "code",
   "execution_count": 298,
   "metadata": {},
   "outputs": [],
   "source": [
    "CRDCchange = CRDCedit1[['District_Name','change']]"
   ]
  },
  {
   "cell_type": "markdown",
   "metadata": {},
   "source": [
    "Largest increases between 2011 and 2013"
   ]
  },
  {
   "cell_type": "code",
   "execution_count": 300,
   "metadata": {},
   "outputs": [
    {
     "data": {
      "text/html": [
       "<div>\n",
       "<style>\n",
       "    .dataframe thead tr:only-child th {\n",
       "        text-align: right;\n",
       "    }\n",
       "\n",
       "    .dataframe thead th {\n",
       "        text-align: left;\n",
       "    }\n",
       "\n",
       "    .dataframe tbody tr th {\n",
       "        vertical-align: top;\n",
       "    }\n",
       "</style>\n",
       "<table border=\"1\" class=\"dataframe\">\n",
       "  <thead>\n",
       "    <tr style=\"text-align: right;\">\n",
       "      <th></th>\n",
       "      <th>District_Name</th>\n",
       "      <th>change</th>\n",
       "    </tr>\n",
       "  </thead>\n",
       "  <tbody>\n",
       "    <tr>\n",
       "      <th>26</th>\n",
       "      <td>RAYTOWN C-2</td>\n",
       "      <td>13.8</td>\n",
       "    </tr>\n",
       "    <tr>\n",
       "      <th>6</th>\n",
       "      <td>EXCELSIOR SPRINGS 40</td>\n",
       "      <td>5.6</td>\n",
       "    </tr>\n",
       "    <tr>\n",
       "      <th>10</th>\n",
       "      <td>GRANDVIEW C-4</td>\n",
       "      <td>4.3</td>\n",
       "    </tr>\n",
       "    <tr>\n",
       "      <th>30</th>\n",
       "      <td>TURNER-KANSAS CITY</td>\n",
       "      <td>2.9</td>\n",
       "    </tr>\n",
       "    <tr>\n",
       "      <th>14</th>\n",
       "      <td>KANSAS CITY</td>\n",
       "      <td>2.7</td>\n",
       "    </tr>\n",
       "  </tbody>\n",
       "</table>\n",
       "</div>"
      ],
      "text/plain": [
       "           District_Name  change\n",
       "26           RAYTOWN C-2    13.8\n",
       "6   EXCELSIOR SPRINGS 40     5.6\n",
       "10         GRANDVIEW C-4     4.3\n",
       "30    TURNER-KANSAS CITY     2.9\n",
       "14           KANSAS CITY     2.7"
      ]
     },
     "execution_count": 300,
     "metadata": {},
     "output_type": "execute_result"
    }
   ],
   "source": [
    "CRDCchange.sort_values(\"change\", ascending=False).head(5)"
   ]
  },
  {
   "cell_type": "markdown",
   "metadata": {},
   "source": [
    "Largest decreases between 2011 and 2013"
   ]
  },
  {
   "cell_type": "code",
   "execution_count": 301,
   "metadata": {},
   "outputs": [
    {
     "data": {
      "text/html": [
       "<div>\n",
       "<style>\n",
       "    .dataframe thead tr:only-child th {\n",
       "        text-align: right;\n",
       "    }\n",
       "\n",
       "    .dataframe thead th {\n",
       "        text-align: left;\n",
       "    }\n",
       "\n",
       "    .dataframe tbody tr th {\n",
       "        vertical-align: top;\n",
       "    }\n",
       "</style>\n",
       "<table border=\"1\" class=\"dataframe\">\n",
       "  <thead>\n",
       "    <tr style=\"text-align: right;\">\n",
       "      <th></th>\n",
       "      <th>District_Name</th>\n",
       "      <th>change</th>\n",
       "    </tr>\n",
       "  </thead>\n",
       "  <tbody>\n",
       "    <tr>\n",
       "      <th>11</th>\n",
       "      <td>HICKMAN MILLS C-1</td>\n",
       "      <td>-7.1</td>\n",
       "    </tr>\n",
       "    <tr>\n",
       "      <th>18</th>\n",
       "      <td>LIBERTY 53</td>\n",
       "      <td>-5.0</td>\n",
       "    </tr>\n",
       "    <tr>\n",
       "      <th>13</th>\n",
       "      <td>KANSAS CITY 33</td>\n",
       "      <td>-4.5</td>\n",
       "    </tr>\n",
       "    <tr>\n",
       "      <th>7</th>\n",
       "      <td>FORT OSAGE R-I</td>\n",
       "      <td>-4.4</td>\n",
       "    </tr>\n",
       "    <tr>\n",
       "      <th>27</th>\n",
       "      <td>SHAWNEE MISSION PUB SCH</td>\n",
       "      <td>-4.2</td>\n",
       "    </tr>\n",
       "  </tbody>\n",
       "</table>\n",
       "</div>"
      ],
      "text/plain": [
       "              District_Name  change\n",
       "11        HICKMAN MILLS C-1    -7.1\n",
       "18               LIBERTY 53    -5.0\n",
       "13           KANSAS CITY 33    -4.5\n",
       "7            FORT OSAGE R-I    -4.4\n",
       "27  SHAWNEE MISSION PUB SCH    -4.2"
      ]
     },
     "execution_count": 301,
     "metadata": {},
     "output_type": "execute_result"
    }
   ],
   "source": [
    "CRDCchange.sort_values(\"change\", ascending=True).head(5)"
   ]
  },
  {
   "cell_type": "markdown",
   "metadata": {},
   "source": [
    "# Suspensions By Type"
   ]
  },
  {
   "cell_type": "markdown",
   "metadata": {},
   "source": [
    "Data was collected from the sources used for overall suspension rates. There was an issue with 2011 in Kansas where no data was given, or if given wildly lower than the years before or after. It is ignored in this analysis."
   ]
  },
  {
   "cell_type": "markdown",
   "metadata": {},
   "source": [
    "Suspensions are categorized by: Alcohol, Drug, Violent Act, and Weapon"
   ]
  },
  {
   "cell_type": "markdown",
   "metadata": {},
   "source": [
    "Missouri also includes Tobacco and Other"
   ]
  },
  {
   "cell_type": "code",
   "execution_count": 342,
   "metadata": {},
   "outputs": [],
   "source": [
    "alcohol = pd.read_csv(\"data/Suspension-Data-Alcohol.csv\")\n",
    "drug = pd.read_csv(\"data/Suspension-Data-Drug.csv\")\n",
    "other = pd.read_csv(\"data/Suspension-Data-Other.csv\")\n",
    "tobacco = pd.read_csv(\"data/Suspension-Data-Tobacco.csv\")\n",
    "violent = pd.read_csv(\"data/Suspension-Data-ViolentAct.csv\")\n",
    "weapon = pd.read_csv(\"data/Suspension-Data-Weapon.csv\")"
   ]
  },
  {
   "cell_type": "code",
   "execution_count": 356,
   "metadata": {},
   "outputs": [],
   "source": [
    "allTypes = alcohol.sum(axis=1)+drug.sum(axis=1)+weapon.sum(axis=1)+other.sum(axis=1)+tobacco.sum(axis=1)"
   ]
  },
  {
   "cell_type": "code",
   "execution_count": 357,
   "metadata": {},
   "outputs": [],
   "source": [
    "typeTotal = test.sum()"
   ]
  },
  {
   "cell_type": "code",
   "execution_count": 358,
   "metadata": {},
   "outputs": [],
   "source": [
    "violentTotal = violent.sum(axis=1).sum()"
   ]
  },
  {
   "cell_type": "markdown",
   "metadata": {},
   "source": [
    "Finding: violent offenses have made up 34 percent of all out of school suspensions since 2008"
   ]
  },
  {
   "cell_type": "code",
   "execution_count": 359,
   "metadata": {},
   "outputs": [
    {
     "data": {
      "text/plain": [
       "0.34358384255217839"
      ]
     },
     "execution_count": 359,
     "metadata": {},
     "output_type": "execute_result"
    }
   ],
   "source": [
    "violentTotal/typeTotal"
   ]
  },
  {
   "cell_type": "markdown",
   "metadata": {},
   "source": [
    "Finding: non violent suspension are decreasing"
   ]
  },
  {
   "cell_type": "code",
   "execution_count": 364,
   "metadata": {},
   "outputs": [
    {
     "data": {
      "text/plain": [
       "State       MOMOMOMOMOMOMOMOMOMOMOMOMOMOMOMOMOMOMOMOMOMOKS...\n",
       "District    Blue SpringsCenterClintonExcelsior SpringsFort...\n",
       "2008                                                     4047\n",
       "2009                                                     3362\n",
       "2010                                                     2982\n",
       "2011                                                     3236\n",
       "2012                                                     2962\n",
       "2013                                                     2783\n",
       "2014                                                     2914\n",
       "2015                                                     2916\n",
       "dtype: object"
      ]
     },
     "execution_count": 364,
     "metadata": {},
     "output_type": "execute_result"
    }
   ],
   "source": [
    "alcohol.sum()+drug.sum()+weapon.sum()+other.sum()+tobacco.sum()"
   ]
  },
  {
   "cell_type": "markdown",
   "metadata": {},
   "source": [
    "Finding: Violent suspensions are increasing"
   ]
  },
  {
   "cell_type": "code",
   "execution_count": 362,
   "metadata": {},
   "outputs": [
    {
     "data": {
      "text/plain": [
       "State       MOMOMOMOMOMOMOMOMOMOMOMOMOMOMOMOMOMOMOMOMOMOKS...\n",
       "District    Blue SpringsCenterClintonExcelsior SpringsFort...\n",
       "2008                                                      878\n",
       "2009                                                      838\n",
       "2010                                                      853\n",
       "2011                                                      648\n",
       "2012                                                     1192\n",
       "2013                                                     1137\n",
       "2014                                                     1491\n",
       "2015                                                     1622\n",
       "dtype: object"
      ]
     },
     "execution_count": 362,
     "metadata": {},
     "output_type": "execute_result"
    }
   ],
   "source": [
    "violent.sum()"
   ]
  },
  {
   "cell_type": "markdown",
   "metadata": {},
   "source": [
    "Finding: violent suspensions went from making up nearly 22 percent of OSS to 56 percent of OSS"
   ]
  },
  {
   "cell_type": "code",
   "execution_count": 379,
   "metadata": {},
   "outputs": [
    {
     "name": "stdout",
     "output_type": "stream",
     "text": [
      "2008: 0.2169508277736595\n",
      "2009: 0.24925639500297442\n",
      "2010: 0.28604963112005366\n",
      "2011: 0.20024721878862795\n",
      "2012: 0.4024307900067522\n",
      "2013: 0.4085519223859145\n",
      "2014: 0.5116678105696637\n",
      "2015: 0.556241426611797\n"
     ]
    }
   ],
   "source": [
    "print(\"2008:\",(878/4047))\n",
    "print(\"2009:\",838/3362)\n",
    "print(\"2010:\",853/2982)\n",
    "print(\"2011:\",648/3236)\n",
    "print(\"2012:\",1192/2962)\n",
    "print(\"2013:\",1137/2783)\n",
    "print(\"2014:\",1491/2914)\n",
    "print(\"2015:\",1622/2916)"
   ]
  }
 ],
 "metadata": {
  "kernelspec": {
   "display_name": "Python 3",
   "language": "python",
   "name": "python3"
  },
  "language_info": {
   "codemirror_mode": {
    "name": "ipython",
    "version": 3
   },
   "file_extension": ".py",
   "mimetype": "text/x-python",
   "name": "python",
   "nbconvert_exporter": "python",
   "pygments_lexer": "ipython3",
   "version": "3.5.2"
  }
 },
 "nbformat": 4,
 "nbformat_minor": 2
}
